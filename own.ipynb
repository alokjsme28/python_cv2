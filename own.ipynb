{
 "cells": [
  {
   "cell_type": "code",
   "execution_count": 5,
   "metadata": {},
   "outputs": [],
   "source": [
    "import cv2"
   ]
  },
  {
   "cell_type": "code",
   "execution_count": 6,
   "metadata": {},
   "outputs": [
    {
     "data": {
      "text/plain": [
       "(600, 600, 3)"
      ]
     },
     "execution_count": 6,
     "metadata": {},
     "output_type": "execute_result"
    }
   ],
   "source": [
    "import numpy\n",
    "np = numpy.zeros((600,600,3))\n",
    "np.shape"
   ]
  },
  {
   "cell_type": "code",
   "execution_count": 7,
   "metadata": {},
   "outputs": [],
   "source": [
    "np[300:400,100] = [255,255,255]\n",
    "np[300:400,200] = [255,255,255]\n",
    "np[300:400,400] = [255,255,255]\n",
    "np[400,100:400] = [255,255,255]\n",
    "np[360:400,290] = [255,255,255]\n",
    "np[360:400,310] = [255,255,255]\n",
    "np[360,290:310] = [255,255,255]\n",
    "#ROYGBIV\n",
    "np[295:300,95:405] =  [0,0,255]\n",
    "np[290:295,105:395] = [0,165,255]\n",
    "np[285:290,115:385] = [0,255,255]\n",
    "np[280:285,125:375] = [0,255,0]\n",
    "np[275:280,135:365] = [255,0,0]\n",
    "np[270:275,145:355] = [130,0,75]\n",
    "np[265:270,155:350] = [255,0,127]\n",
    "#FLAG\n",
    "np[215:265,250] =     [255,255,255]\n",
    "np[215:222,250:280] = [0,165,255]\n",
    "np[222:229,250:280] = [255,255,255]\n",
    "np[229:236,250:280] = [0,255,0]\n"
   ]
  },
  {
   "cell_type": "code",
   "execution_count": 8,
   "metadata": {},
   "outputs": [],
   "source": [
    "cv2.imshow(\"pic\",np)\n",
    "cv2.waitKey()\n",
    "cv2.destroyAllWindows()"
   ]
  }
 ],
 "metadata": {
  "kernelspec": {
   "display_name": "Python 3",
   "language": "python",
   "name": "python3"
  },
  "language_info": {
   "codemirror_mode": {
    "name": "ipython",
    "version": 3
   },
   "file_extension": ".py",
   "mimetype": "text/x-python",
   "name": "python",
   "nbconvert_exporter": "python",
   "pygments_lexer": "ipython3",
   "version": "3.8.5"
  }
 },
 "nbformat": 4,
 "nbformat_minor": 4
}
